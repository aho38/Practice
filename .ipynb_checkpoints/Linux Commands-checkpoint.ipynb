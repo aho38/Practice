{
 "cells": [
  {
   "cell_type": "markdown",
   "metadata": {},
   "source": [
    "### Print Working Directory (pwd) ###\n",
    "The pwd command tells you your current location in the directory tree.\n",
    "\n",
    "```odeguchy@odeguchy-XPS:~$ pwd\n",
    "/home/odeguchy\n",
    "odeguchy@odeguchy-XPS:~$ ```"
   ]
  },
  {
   "cell_type": "markdown",
   "metadata": {},
   "source": [
    "### List Subfolders (ls) ###\n",
    "This command allows you to view all of the subfolders of your current directory.\n",
    "\n",
    "```odeguchy@odeguchy-XPS:~$ ls\n",
    "anaconda3  Documents  examples.desktop  Pictures  snap\n",
    "CoinIpopt  Downloads  julia-0.7.0       Public    Templates\n",
    "Desktop    Dropbox    Music             repos     Videos\n",
    "odeguchy@odeguchy-XPS:~$```\n"
   ]
  },
  {
   "cell_type": "markdown",
   "metadata": {},
   "source": [
    "ls -l lists the subfolders along with their permissions\n",
    "\n",
    "```odeguchy@odeguchy-XPS:~$ ls -l\n",
    "total 68\n",
    "drwxr-xr-x 26 odeguchy odeguchy 4096 Mar 28 16:13 anaconda3\n",
    "drwxr-xr-x  6 odeguchy odeguchy 4096 Nov 18 00:31 CoinIpopt\n",
    "drwxr-xr-x  3 odeguchy odeguchy 4096 Feb  6 22:34 Desktop\n",
    "drwxr-xr-x  3 odeguchy odeguchy 4096 Mar 29 14:07 Documents\n",
    "drwxr-xr-x  4 odeguchy odeguchy 4096 Mar 31 14:51 Downloads\n",
    "drwx------ 12 odeguchy odeguchy 4096 Mar 14 09:24 Dropbox\n",
    "-rw-r--r--  1 odeguchy odeguchy 8980 Feb  4 00:05 examples.desktop\n",
    "drwxr-xr-x  7 odeguchy odeguchy 4096 Aug  8  2018 julia-0.7.0\n",
    "drwxr-xr-x  2 odeguchy odeguchy 4096 Feb  3 16:09 Music\n",
    "drwxr-xr-x  2 odeguchy odeguchy 4096 Mar 12 23:42 Pictures\n",
    "drwxr-xr-x  2 odeguchy odeguchy 4096 Feb  3 16:09 Public\n",
    "drwxr-xr-x  8 odeguchy odeguchy 4096 Mar 31 14:35 repos\n",
    "drwxr-xr-x  4 odeguchy odeguchy 4096 Feb  3 17:10 snap\n",
    "drwxr-xr-x  2 odeguchy odeguchy 4096 Feb  3 16:09 Templates\n",
    "drwxr-xr-x  2 odeguchy odeguchy 4096 Feb  3 16:09 Videos\n",
    "odeguchy@odeguchy-XPS:~$```"
   ]
  },
  {
   "cell_type": "markdown",
   "metadata": {},
   "source": [
    "### Change Directory (cd) ### \n",
    "This is the most used linux command. It is used to change your current location in the terminal.\n",
    "\n",
    "``` odeguchy@odeguchy-XPS:~$ cd repos\n",
    "odeguchy@odeguchy-XPS:~/repos$```"
   ]
  },
  {
   "cell_type": "markdown",
   "metadata": {},
   "source": [
    "we continue by changing to the next subdirectory\n",
    "\n",
    "``` odeguchy@odeguchy-XPS:~/repos$ ls\n",
    "ContingScreening   goinstances  SAR_Learning\n",
    "DeepLearningGroup  Practice     specJuMP\n",
    "odeguchy@odeguchy-XPS:~/repos$```"
   ]
  },
  {
   "cell_type": "markdown",
   "metadata": {},
   "source": [
    "``` odeguchy@odeguchy-XPS:~/repos$ cd Practice\n",
    "(base) odeguchy@odeguchy-XPS:~/repos/Practice$ ls\n",
    "'Linux Commands.ipynb'   README.md\n",
    "(base) odeguchy@odeguchy-XPS:~/repos/Practice$```\n"
   ]
  },
  {
   "cell_type": "markdown",
   "metadata": {},
   "source": [
    "The same could have been done by writting the path to the subfolder.\n",
    "\n",
    "``` odeguchy@odeguchy-XPS:~$ cd repos/Practice\n",
    "(base) odeguchy@odeguchy-XPS:~/repos/Practice$```"
   ]
  },
  {
   "cell_type": "markdown",
   "metadata": {},
   "source": [
    "To get back to the home directory simply use cd without a path or subfolder name \n",
    "\n",
    "```odeguchy@odeguchy-XPS:~/repos/Practice$ cd\n",
    "odeguchy@odeguchy-XPS:~$ ```"
   ]
  },
  {
   "cell_type": "markdown",
   "metadata": {},
   "source": [
    "When using cd you can also use the tab key after cd to fill in the path if there is more than one option it will list the options.\n",
    "\n",
    "```odeguchy@odeguchy-XPS:~$ cd D\n",
    "Desktop/   Documents/ Downloads/ Dropbox/   \n",
    "(base) odeguchy@odeguchy-XPS:~$ cd Do\n",
    "Documents/ Downloads/ \n",
    "(base) odeguchy@odeguchy-XPS:~$ cd Downloads/\n",
    "anyconnect-linux64-4.6.02074/ .ipynb_checkpoints/```"
   ]
  },
  {
   "cell_type": "markdown",
   "metadata": {},
   "source": [
    "If you need to get to a folder in a different path then you can use ~/ to start at the top\n",
    "\n",
    "```odeguchy@odeguchy-XPS:~/repos/Practice$ cd ~/Dropbox/DATA\n",
    "odeguchy@odeguchy-XPS:~/Dropbox/DATA$```\n",
    "\n"
   ]
  },
  {
   "cell_type": "markdown",
   "metadata": {},
   "source": [
    "### Create a directory (mkdir) ###\n",
    "The command mkdir is used to create directories. \n",
    "\n",
    "```odeguchy@odeguchy-XPS:~$ ls\n",
    "anaconda3  Documents  examples.desktop  Pictures  snap\n",
    "CoinIpopt  Downloads  julia-0.7.0       Public    Templates\n",
    "Desktop    Dropbox    Music             repos     Videos\n",
    "(base) odeguchy@odeguchy-XPS:~$ mkdir tempfile\n",
    "(base) odeguchy@odeguchy-XPS:~$ ls\n",
    "anaconda3  Documents  examples.desktop  Pictures  snap       Videos\n",
    "CoinIpopt  Downloads  julia-0.7.0       Public    tempfile\n",
    "Desktop    Dropbox    Music             repos     Templates\n",
    "(base) odeguchy@odeguchy-XPS:~$ ```"
   ]
  },
  {
   "cell_type": "markdown",
   "metadata": {},
   "source": [
    "### Copy (cp) ###\n",
    "This command will copy either a file or folder. The command is followed by the name of the folder being copied and the destination\n",
    "\n",
    "```(base) odeguchy@odeguchy-XPS:~$ cp tempfile tempfolder/tempfile_copy\n",
    "(base) odeguchy@odeguchy-XPS:~$ ls\n",
    "anaconda3  Documents  examples.desktop  Pictures  snap        Templates\n",
    "CoinIpopt  Downloads  julia-0.7.0       Public    tempfile    Videos\n",
    "Desktop    Dropbox    Music             repos     tempfolder\n",
    "(base) odeguchy@odeguchy-XPS:~$ cd tempfolder\n",
    "(base) odeguchy@odeguchy-XPS:~/tempfolder$ ls\n",
    "tempfile_copy```\n"
   ]
  },
  {
   "cell_type": "markdown",
   "metadata": {},
   "source": [
    "When copying a file it is necessary to use the -r flag after the cp command in order to copy the files recursively.\n",
    "\n",
    "``` odeguchy@odeguchy-XPS:~$ cp -r tempfolder/ tempfolder2\n",
    "(base) odeguchy@odeguchy-XPS:~$ ls\n",
    "anaconda3  Documents  examples.desktop  Pictures  snap        tempfolder2\n",
    "CoinIpopt  Downloads  julia-0.7.0       Public    tempfile    Templates\n",
    "Desktop    Dropbox    Music             repos     tempfolder  Videos\n",
    "(base) odeguchy@odeguchy-XPS:~$ cd tempfolder2\n",
    "(base) odeguchy@odeguchy-XPS:~/tempfolder2$ ls\n",
    "tempfile_copy\n",
    "(base) odeguchy@odeguchy-XPS:~/tempfolder2$```"
   ]
  },
  {
   "cell_type": "markdown",
   "metadata": {},
   "source": [
    "### Move file (mv) ###\n",
    "The mv command is similar to the cp command except that it deletes the source file\n",
    "Care should be taken using this command.\n",
    "\n",
    "```(base) odeguchy@odeguchy-XPS:~$ mv tempfolder tempfolder2\n",
    "(base) odeguchy@odeguchy-XPS:~$ ls\n",
    "anaconda3  Documents  examples.desktop  Pictures  snap         Templates\n",
    "CoinIpopt  Downloads  julia-0.7.0       Public    tempfile     Videos\n",
    "Desktop    Dropbox    Music             repos     tempfolder2\n",
    "(base) odeguchy@odeguchy-XPS:~$ cd tempfolder2\n",
    "(base) odeguchy@odeguchy-XPS:~/tempfolder2$ ls\n",
    "tempfile_copy  tempfolder\n",
    "(base) odeguchy@odeguchy-XPS:~/tempfolder2$ ```"
   ]
  },
  {
   "cell_type": "markdown",
   "metadata": {},
   "source": [
    "### Remove files (rm) ###\n",
    "The rm command deletes either files or folders. The -r flag is reqired to delete folders.\n",
    "\n",
    "```(base) odeguchy@odeguchy-XPS:~$ ls\n",
    "anaconda3  Documents  examples.desktop  Pictures  snap         Templates\n",
    "CoinIpopt  Downloads  julia-0.7.0       Public    tempfile     Videos\n",
    "Desktop    Dropbox    Music             repos     tempfolder2\n",
    "(base) odeguchy@odeguchy-XPS:~$ rm tempfile\n",
    "(base) odeguchy@odeguchy-XPS:~$ rm -r tempfolder2/\n",
    "(base) odeguchy@odeguchy-XPS:~$ ls\n",
    "anaconda3  Documents  examples.desktop  Pictures  snap\n",
    "CoinIpopt  Downloads  julia-0.7.0       Public    Templates\n",
    "Desktop    Dropbox    Music             repos     Videos\n",
    "(base) odeguchy@odeguchy-XPS:~$ ```"
   ]
  },
  {
   "cell_type": "markdown",
   "metadata": {},
   "source": [
    "### Create files (touch) ###\n",
    "The touch command allows you to create files. In this example we create a python file. \n",
    "\n",
    "```(base) odeguchy@odeguchy-XPS:~$ ls\n",
    "anaconda3  Documents  examples.desktop  Pictures  snap\n",
    "CoinIpopt  Downloads  julia-0.7.0       Public    Templates\n",
    "Desktop    Dropbox    Music             repos     Videos\n",
    "(base) odeguchy@odeguchy-XPS:~$ touch example.py\n",
    "(base) odeguchy@odeguchy-XPS:~$ ls\n",
    "anaconda3  Documents  example.py        Music     repos      Videos\n",
    "CoinIpopt  Downloads  examples.desktop  Pictures  snap\n",
    "Desktop    Dropbox    julia-0.7.0       Public    Templates\n",
    "(base) odeguchy@odeguchy-XPS:~$ ```"
   ]
  },
  {
   "cell_type": "markdown",
   "metadata": {},
   "source": [
    "### Using Vim ###\n",
    "We need a way to edit our python script. We will be using a linux editor named Vim. We call it using the command vim.\n",
    "\n",
    "```(base) odeguchy@odeguchy-XPS:~$ vim example.py```"
   ]
  },
  {
   "cell_type": "markdown",
   "metadata": {},
   "source": [
    "By default vim enters into a viewing mode. In order to edit the file we need to press the i key so that the bottom reads insert.\n",
    "```~                                                                                 \n",
    "-- INSERT --                                                    0,1           All```\n",
    "\n"
   ]
  },
  {
   "cell_type": "markdown",
   "metadata": {},
   "source": [
    "write the following code\n",
    "\n",
    "``` sum = 0\n",
    "for i in range(10):\n",
    "    sum=sum+i**2\n",
    "print(sum)```"
   ]
  },
  {
   "cell_type": "markdown",
   "metadata": {},
   "source": [
    "Then we press the esc key to exit insert mode and use :wq to save the changes and quit vim.\n",
    "\n",
    "Then run the python script using the following command\n",
    "\n",
    "``` (base) odeguchy@odeguchy-XPS:~$ python example.py\n",
    "285 ```"
   ]
  },
  {
   "cell_type": "markdown",
   "metadata": {},
   "source": [
    "### Misc Tips ###\n",
    "\n",
    "<cd .. > will move you up one directory in the folder tree\n",
    "\n",
    "If you find that you cannot execute a file then run the command ```chmod 777 <filename>```"
   ]
  },
  {
   "cell_type": "code",
   "execution_count": null,
   "metadata": {},
   "outputs": [],
   "source": []
  }
 ],
 "metadata": {
  "kernelspec": {
   "display_name": "Python 3",
   "language": "python",
   "name": "python3"
  },
  "language_info": {
   "codemirror_mode": {
    "name": "ipython",
    "version": 3
   },
   "file_extension": ".py",
   "mimetype": "text/x-python",
   "name": "python",
   "nbconvert_exporter": "python",
   "pygments_lexer": "ipython3",
   "version": "3.6.7"
  }
 },
 "nbformat": 4,
 "nbformat_minor": 2
}

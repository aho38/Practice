{
 "cells": [
  {
   "cell_type": "markdown",
   "metadata": {},
   "source": [
    "Git is a language used for version control during code development. It is a way to access what is known as a repository where the code is stored and you have access to the code as you modify it."
   ]
  },
  {
   "cell_type": "markdown",
   "metadata": {},
   "source": [
    "We will be using github as a way to practice using git. The internship will require you to use a similar repository named gitlab. All of the git code is the same for both repositories. \n",
    "\n",
    "Go to <https://github.com/> and create a free account. "
   ]
  },
  {
   "cell_type": "markdown",
   "metadata": {},
   "source": [
    "### Insatll Git ###\n",
    "First check if git is install using the following code\n",
    "\n",
    "```(base) odeguchy@odeguchy-XPS:~$ git --version\n",
    "git version 2.17.1```\n",
    "\n",
    "If it is not installed then install using the shell command \n",
    "\n",
    "```(base) odeguchy@odeguchy-XPS:~$ sudo apt-get update\n",
    "(base) odeguchy@odeguchy-XPS:~$ sudo apt-get install git```"
   ]
  },
  {
   "cell_type": "markdown",
   "metadata": {},
   "source": [
    "### Practice Repository ###\n",
    "We will be using a repository I created at <https://github.com/odeguchy/Practice>. You will be cloning the repository to your machine. First go to the repository website and copy the url of the repository"
   ]
  }
 ],
 "metadata": {
  "kernelspec": {
   "display_name": "Python 3",
   "language": "python",
   "name": "python3"
  },
  "language_info": {
   "codemirror_mode": {
    "name": "ipython",
    "version": 3
   },
   "file_extension": ".py",
   "mimetype": "text/x-python",
   "name": "python",
   "nbconvert_exporter": "python",
   "pygments_lexer": "ipython3",
   "version": "3.6.7"
  }
 },
 "nbformat": 4,
 "nbformat_minor": 2
}

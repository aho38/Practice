{
 "cells": [
  {
   "cell_type": "markdown",
   "metadata": {},
   "source": [
    "Git is a language used for version control during code development. It is a way to access what is known as a repository where the code is stored and you have access to the code as you modify it."
   ]
  },
  {
   "cell_type": "markdown",
   "metadata": {},
   "source": [
    "We will be using github as a way to practice using git. The internship will require you to use a similar repository named gitlab. All of the git code is the same for both repositories. \n",
    "\n",
    "Go to <https://github.com/> and create a free account. \n",
    "\n",
    "### Workflow\n",
    "<img src=\"imgs/workflow.png\">\n",
    "\n",
    "The basic Git workflow goes something like this:\n",
    "\n",
    "1. You modify files in your working directory.\n",
    "2. You stage the files, adding snapshots of them to your staging area.\n",
    "3. You do a commit, which takes the files as they are in the staging area and stores that snapshot permanently to your Git directory."
   ]
  },
  {
   "cell_type": "markdown",
   "metadata": {},
   "source": [
    "### Insatll Git ###\n",
    "First check if git is install using the following code\n",
    "\n",
    "```(base) odeguchy@odeguchy-XPS:~$ git --version\n",
    "git version 2.17.1```\n",
    "\n",
    "If it is not installed then install using the shell command \n",
    "\n",
    "```(base) odeguchy@odeguchy-XPS:~$ sudo apt-get update\n",
    "(base) odeguchy@odeguchy-XPS:~$ sudo apt-get install git```"
   ]
  },
  {
   "cell_type": "markdown",
   "metadata": {},
   "source": [
    "### Your Identity\n",
    "\n",
    "The first thing you should when you install Git is to set your user name and e-mail address. This is important because every Git commit uses this information:\n",
    "\n",
    "```$ git config --global user.name \"John Doe\"\n",
    "$ git config --global user.email johndoe@example.com\n",
    "```\n",
    "\n",
    "You can check your settings using\n",
    "\n",
    "` $ git config -- list`"
   ]
  },
  {
   "cell_type": "markdown",
   "metadata": {},
   "source": [
    "### Credential helper\n",
    "\n",
    "Every time you commit the repository will ask for your credentials (username and password). By turning on the credential helper Git will save your password in memory for some time. By default, Git will cache your password for 15 minutes.\n",
    "\n",
    "`$ git config --global credential.helper cache`\n",
    "\n",
    "To change the default password cache timeout to an hour enter the following:\n",
    "\n",
    "`$ git config --global credential.helper 'cache --timeout=3600`"
   ]
  },
  {
   "cell_type": "markdown",
   "metadata": {},
   "source": [
    "### Getting Help\n",
    "\n",
    "If you ever need help while using Git, there are three ways to get the manual page for any of the Git commands:\n",
    "\n",
    "`$ git help <verb>\n",
    "$ git <verb> --help\n",
    "$ man git--<verb>`\n",
    "\n",
    "For example, you can get the manpage help for the config command by running\n",
    "\n",
    "`$ git help config`"
   ]
  },
  {
   "cell_type": "markdown",
   "metadata": {},
   "source": [
    "### Practice Repository ###\n",
    "We will be using a repository I created at <https://github.com/odeguchy/Practice>. You will be cloning the repository to your machine. First go to the repository website and copy the url of the repository\n",
    "\n",
    "<img src=\"imgs/repolink.png\">"
   ]
  },
  {
   "cell_type": "markdown",
   "metadata": {},
   "source": [
    "Before you clone the repository you should make a folder containing all of your repositories and change to that directory.\n",
    "\n",
    "``` $ mkdir repos\n",
    " $ cd repos```"
   ]
  },
  {
   "cell_type": "markdown",
   "metadata": {},
   "source": [
    "Then you would clone the repository to your machine with the command \n",
    "\n",
    "```$ git clone https://github.com/odeguchy/Practice.git```"
   ]
  },
  {
   "cell_type": "markdown",
   "metadata": {},
   "source": [
    "The folder and all of the files should be copied within the repos folder. The git status command allows you to see the state of the current \"branch\".\n",
    "\n",
    "``` odeguchy@odeguchy-XPS:~/repos/Practice$ git status\n",
    "On branch master\n",
    "Your branch is up to date with 'origin/master'.```\n",
    "\n",
    "```Changes not staged for commit:\n",
    "(use \"git add <file>...\" to update what will be committed)\n",
    "(use \"git checkout -- <file>...\" to discard changes in working directory)\n",
    "        modified:   Using GIT.ipynb\n",
    "no changes added to commit (use \"git add\" and/or \"git commit -a\")```\n",
    "\n"
   ]
  },
  {
   "cell_type": "markdown",
   "metadata": {},
   "source": [
    "### Pulling from your repository\n",
    "\n",
    "After using the `git clone` command you will want to be sure to stay up to date with the most current changes in the repository. You can use the `git pull` command to update the current repository."
   ]
  },
  {
   "cell_type": "markdown",
   "metadata": {},
   "source": [
    "### Pushing files to the repository###\n",
    "We will make a file and push it to the repository\n",
    "```$ touch tempfile.py```\n",
    "\n",
    "Before you commit or add any changes you should use the command git pull. This makes sure that you sync your repo up to the latest changes in the repo."
   ]
  },
  {
   "cell_type": "markdown",
   "metadata": {},
   "source": [
    "using git status results in the following \n",
    "\n",
    "```Untracked files:\n",
    "(use \"git add <file>...\" to include in what will be committed)\n",
    "    tempfile.py```\n"
   ]
  },
  {
   "cell_type": "markdown",
   "metadata": {},
   "source": [
    "The first step to commit this file is to add the file using the git add command. If you want to add all of the files in staging area then you use <git add .> if you would like to only add a file then use <git add filename>"
   ]
  },
  {
   "cell_type": "markdown",
   "metadata": {},
   "source": [
    "```odeguchy@odeguchy-XPS:~/repos/Practice$ git status\n",
    "On branch master\n",
    "Your branch is up to date with 'origin/master'.\n",
    "Changes to be committed:\n",
    "    (use \"git reset HEAD <file>...\" to unstage)\n",
    "    modified:   Using GIT.ipynb\n",
    "    new file:   tempfile.py```\n"
   ]
  },
  {
   "cell_type": "markdown",
   "metadata": {},
   "source": [
    "After the files are added then they must be commited with a message. This is done using the message flag git commit -m \"message\"."
   ]
  },
  {
   "cell_type": "markdown",
   "metadata": {},
   "source": [
    "```odeguchy@odeguchy-XPS:~/repos/Practice$ git commit -m \"tempfile added\"\n",
    "[master 3f3cd9c] tempfile added\n",
    " 2 files changed, 73 insertions(+), 1 deletion(-)\n",
    " create mode 100644 tempfile.py```\n"
   ]
  },
  {
   "cell_type": "markdown",
   "metadata": {},
   "source": [
    "Finally we will push to the repository using git push origin master"
   ]
  },
  {
   "cell_type": "markdown",
   "metadata": {},
   "source": [
    "```odeguchy@odeguchy-XPS:~/repos/Practice$ git push origin master\n",
    "Counting objects: 4, done.\n",
    "Delta compression using up to 4 threads.\n",
    "Compressing objects: 100% (3/3), done.\n",
    "Writing objects: 100% (4/4), 1.58 KiB | 1.58 MiB/s, done.\n",
    "Total 4 (delta 1), reused 0 (delta 0)\n",
    "remote: Resolving deltas: 100% (1/1), completed with 1 local object.\n",
    "To https://github.com/odeguchy/Practice.git\n",
    "   979982d..3f3cd9c  master -> master```\n"
   ]
  },
  {
   "cell_type": "markdown",
   "metadata": {},
   "source": [
    "### Stop tracking files but keep them on your hard drive\n",
    "`$ git rm --cached <filename>`"
   ]
  },
  {
   "cell_type": "markdown",
   "metadata": {},
   "source": [
    "### viewing the project history\n",
    "` $ git log`"
   ]
  },
  {
   "cell_type": "code",
   "execution_count": null,
   "metadata": {},
   "outputs": [],
   "source": []
  }
 ],
 "metadata": {
  "kernelspec": {
   "display_name": "Python 3",
   "language": "python",
   "name": "python3"
  },
  "language_info": {
   "codemirror_mode": {
    "name": "ipython",
    "version": 3
   },
   "file_extension": ".py",
   "mimetype": "text/x-python",
   "name": "python",
   "nbconvert_exporter": "python",
   "pygments_lexer": "ipython3",
   "version": "3.6.7"
  }
 },
 "nbformat": 4,
 "nbformat_minor": 2
}

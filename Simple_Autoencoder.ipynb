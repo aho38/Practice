{
 "cells": [
  {
   "cell_type": "markdown",
   "metadata": {},
   "source": [
    "# Simple Autoencoder\n",
    "In this notebook we will implement a simple autoencoder in Pytorch on the MNIST Dataset."
   ]
  },
  {
   "cell_type": "markdown",
   "metadata": {},
   "source": [
    "# Autoencoder\n",
    "\n",
    "<img src=\"imgs/autoencoder.png\">"
   ]
  },
  {
   "cell_type": "markdown",
   "metadata": {},
   "source": [
    "First we important all of the packages we will use. Many of these packages are standard packages that are used when creating these networks. The exception is the MNIST package. "
   ]
  },
  {
   "cell_type": "code",
   "execution_count": 1,
   "metadata": {},
   "outputs": [],
   "source": [
    "import os\n",
    "import numpy as np\n",
    "import matplotlib.pyplot as plt\n",
    "import torch\n",
    "import torch.utils.data\n",
    "import torch.nn as nn\n",
    "from torch.autograd import Variable\n",
    "from torchvision import transforms\n",
    "import torchvision.utils \n",
    "\n",
    "\n",
    "from torchvision.datasets import MNIST\n"
   ]
  },
  {
   "cell_type": "markdown",
   "metadata": {},
   "source": [
    "Test if GPU is available."
   ]
  },
  {
   "cell_type": "code",
   "execution_count": 2,
   "metadata": {},
   "outputs": [
    {
     "name": "stdout",
     "output_type": "stream",
     "text": [
      "Using CPU\n"
     ]
    }
   ],
   "source": [
    "device = torch.device(\"cuda\" if torch.cuda.is_available() else \"cpu\")\n",
    "if str(device) == \"cuda\":\n",
    "    print('Using GPU')\n",
    "else:\n",
    "    print('Using CPU')"
   ]
  },
  {
   "cell_type": "markdown",
   "metadata": {},
   "source": [
    "Remember that print output should be put in a log file for view in a job submission. Next we will create the folders where we will put test output and saved models."
   ]
  },
  {
   "cell_type": "code",
   "execution_count": 3,
   "metadata": {},
   "outputs": [],
   "source": [
    "# ================= Parameters ============================\n",
    "num_epochs = 100\n",
    "batch_size = 128\n",
    "learning_rate = 1e-3"
   ]
  },
  {
   "cell_type": "markdown",
   "metadata": {},
   "source": [
    "I define these parameters before I create output folders in order to name the folder of where I want the output to live. This is helpful when you are trying out different learning rates and you want to keep track of your results.\n",
    "\n",
    "Next we will create our output folders"
   ]
  },
  {
   "cell_type": "code",
   "execution_count": 4,
   "metadata": {},
   "outputs": [],
   "source": [
    "folder = 'Autoencoder_batch_size_'+str(batch_size)+'_lr='+str(learning_rate)\n",
    "folder_name = '../../Documents/'+folder+'/'\n",
    "if not os.path.exists(folder_name):\n",
    "    os.mkdir(folder_name)\n",
    "if not os.path.exists(folder_name+'/saved_models'):\n",
    "    os.mkdir(folder_name+'/saved_models')\n",
    "if not os.path.exists(folder_name+'/recons'):\n",
    "    os.mkdir(folder_name+'/recons')"
   ]
  },
  {
   "cell_type": "markdown",
   "metadata": {},
   "source": [
    "### Image Normalization\n",
    "Here we pause to talk about the normalization of your inputs. We plan on using the tanh activation function at the end of this autoencoder. The tanh activation function looks like the following:\n",
    "\n",
    "<img src=\"imgs/Tanh.gif\">\n",
    "\n",
    "Note that the range of the function falls within the interval -1 to 1. We therefore need to normalize our images in order for the output to match the target. There are many papers stating that normalizing the data helps reduce any skewness resulting in faster learning.\n",
    "\n",
    "Because we are normalizing the data we need a way to undo the normalization so that we can see the images during the training process. The following helper function accomplishes this task:"
   ]
  },
  {
   "cell_type": "code",
   "execution_count": 5,
   "metadata": {},
   "outputs": [],
   "source": [
    "def to_img(x):\n",
    "    x = 0.5 * (x + 1)\n",
    "    x = x.clamp(0, 1)\n",
    "    x = x.view(x.size(0), 1, 28, 28)\n",
    "    return x"
   ]
  },
  {
   "cell_type": "markdown",
   "metadata": {},
   "source": [
    "We now will create a data loader using the trasnforms in the Pytorch API. The we compose a transform which consists of all of the actions we wish to take on the data. \n",
    "\n",
    "### Transform\n",
    "You always want to convert the data to a tensor. This is the natural structure that pytorch deals with. \n",
    "You also always want to normalize the data as stated above. The arguments in the normalization function pertain to the mean and standard deviation. The first vector (0.5 , 0.5, 0.5) pertains to the mean of each channel the second vector pertains to the standard deviation. Normalize does the following to each channel:\n",
    "image = (image - mean) / std"
   ]
  },
  {
   "cell_type": "code",
   "execution_count": 6,
   "metadata": {},
   "outputs": [],
   "source": [
    "img_transform = transforms.Compose([\n",
    "    transforms.ToTensor(),\n",
    "    transforms.Normalize((0.5, 0.5, 0.5), (0.5, 0.5, 0.5))\n",
    "])\n",
    "\n",
    "train_loader = torch.utils.data.DataLoader(MNIST('/home/odeguchy/Documents/data', train=True,download=True,\n",
    "                                                transform = img_transform),batch_size=batch_size,shuffle=True)\n",
    "\n",
    "\n",
    "test_loader = torch.utils.data.DataLoader(MNIST('/home/odeguchy/Documents/data',train=False,download=True,\n",
    "                                               transform=img_transform),batch_size=10000,shuffle=False)\n"
   ]
  },
  {
   "cell_type": "code",
   "execution_count": 7,
   "metadata": {},
   "outputs": [
    {
     "name": "stdout",
     "output_type": "stream",
     "text": [
      "There are 469 batches for training.\n",
      "There is 1 batch for training.\n"
     ]
    }
   ],
   "source": [
    "print('There are {} batches for training.'.format(len(train_loader)) )\n",
    "print('There is {} batch for training.'.format(len(test_loader)))"
   ]
  },
  {
   "cell_type": "markdown",
   "metadata": {},
   "source": [
    "We would like to sample one batch from the train loader. Remember this is a list structure and each item in the list is a batch. The batch is a tensor containing all of the images. "
   ]
  },
  {
   "cell_type": "code",
   "execution_count": 8,
   "metadata": {},
   "outputs": [
    {
     "name": "stdout",
     "output_type": "stream",
     "text": [
      "torch.Size([128, 1, 28, 28])\n",
      "torch.Size([128, 1, 28, 28])\n",
      "torch.Size([3, 482, 242])\n",
      "torch.Size([482, 242, 3])\n"
     ]
    },
    {
     "data": {
      "image/png": "[encoded data removed]",
      "text/plain": [
       "<Figure size 432x288 with 1 Axes>"
      ]
     },
     "metadata": {
      "needs_background": "light"
     },
     "output_type": "display_data"
    }
   ],
   "source": [
    "# Extract batch from train loader\n",
    "sample_batch,_ = next(iter(test_loader))\n",
    "sample_batch = sample_batch[0:128,:,:,:]\n",
    "print(sample_batch.shape)\n",
    "\n",
    "# Use the denormalization function to change the sample batch\n",
    "sample_pics = to_img(sample_batch)\n",
    "print(sample_pics.shape)\n",
    "print(torchvision.utils.make_grid(sample_pics,nrow=8).shape)\n",
    "print(torchvision.utils.make_grid(sample_pics,nrow=8).permute(1,2,0).shape)\n",
    "# Use plt.imshow to display the images\n",
    "plt.imshow(torchvision.utils.make_grid(sample_pics,nrow=8).permute(1, 2, 0))\n",
    "plt.show()\n",
    "\n",
    "# Save target training batch\n",
    "torchvision.utils.save_image(sample_pics, '/home/odeguchy/Documents/Autoencoder_batch_size_128_lr=0.001/recons/target.png')\n"
   ]
  },
  {
   "cell_type": "markdown",
   "metadata": {},
   "source": [
    "## Build the Network\n",
    "The neural network is built in a python class structure using the nn.Module call. Here we will build the encoder and the decoder separately and then create a forward function that calls both and makes up the feed forward aspect of the network."
   ]
  },
  {
   "cell_type": "code",
   "execution_count": 9,
   "metadata": {},
   "outputs": [],
   "source": [
    "class autoencoder(nn.Module):\n",
    "    def __init__(self):\n",
    "        super(autoencoder, self).__init__()\n",
    "        self.encoder = nn.Sequential(\n",
    "            nn.Linear(28 * 28, 128),\n",
    "            nn.ReLU(True),\n",
    "            nn.Linear(128, 64),\n",
    "            nn.ReLU(True), nn.Linear(64, 12), nn.ReLU(True), nn.Linear(12, 3))\n",
    "        self.decoder = nn.Sequential(\n",
    "            nn.Linear(3, 12),\n",
    "            nn.ReLU(True),\n",
    "            nn.Linear(12, 64),\n",
    "            nn.ReLU(True),\n",
    "            nn.Linear(64, 128),\n",
    "            nn.ReLU(True), nn.Linear(128, 28 * 28), nn.Tanh())\n",
    "\n",
    "    def forward(self, x):\n",
    "        x = x.view(-1,1*28*28)\n",
    "        x = self.encoder(x)\n",
    "        x = self.decoder(x)\n",
    "        x = x.view(-1,1,28,28)\n",
    "        return x\n"
   ]
  },
  {
   "cell_type": "markdown",
   "metadata": {},
   "source": [
    "We now attach the model and the loss function to the hardware and define our optimization algorithm."
   ]
  },
  {
   "cell_type": "code",
   "execution_count": 10,
   "metadata": {},
   "outputs": [],
   "source": [
    "model = autoencoder().to(device)\n",
    "criterion = nn.MSELoss().to(device)\n",
    "optimizer = torch.optim.Adam(model.parameters(),lr = learning_rate)"
   ]
  },
  {
   "cell_type": "markdown",
   "metadata": {},
   "source": [
    "## Train the Neural Network\n",
    "We implement the training of the model using a couple of for loops. One for the epochs and one for the iterations across the batches."
   ]
  },
  {
   "cell_type": "code",
   "execution_count": 11,
   "metadata": {},
   "outputs": [
    {
     "name": "stdout",
     "output_type": "stream",
     "text": [
      "epoch [1/100], loss:0.2030\n",
      "Validation Loss: 0.1912\n",
      "epoch [2/100], loss:0.1687\n",
      "Validation Loss: 0.1627\n",
      "epoch [3/100], loss:0.1670\n",
      "Validation Loss: 0.1531\n",
      "epoch [4/100], loss:0.1642\n",
      "Validation Loss: 0.1475\n",
      "epoch [5/100], loss:0.1491\n",
      "Validation Loss: 0.1449\n",
      "epoch [6/100], loss:0.1395\n",
      "Validation Loss: 0.1448\n",
      "epoch [7/100], loss:0.1420\n",
      "Validation Loss: 0.1419\n",
      "epoch [8/100], loss:0.1375\n",
      "Validation Loss: 0.1422\n",
      "epoch [9/100], loss:0.1333\n",
      "Validation Loss: 0.1396\n",
      "epoch [10/100], loss:0.1429\n",
      "Validation Loss: 0.1378\n",
      "epoch [11/100], loss:0.1347\n",
      "Validation Loss: 0.1373\n",
      "epoch [12/100], loss:0.1471\n",
      "Validation Loss: 0.1354\n",
      "epoch [13/100], loss:0.1323\n",
      "Validation Loss: 0.1357\n",
      "epoch [14/100], loss:0.1385\n",
      "Validation Loss: 0.1340\n",
      "epoch [15/100], loss:0.1243\n",
      "Validation Loss: 0.1333\n",
      "epoch [16/100], loss:0.1284\n",
      "Validation Loss: 0.1320\n",
      "epoch [17/100], loss:0.1382\n",
      "Validation Loss: 0.1331\n",
      "epoch [18/100], loss:0.1436\n",
      "Validation Loss: 0.1332\n",
      "epoch [19/100], loss:0.1375\n",
      "Validation Loss: 0.1323\n",
      "epoch [20/100], loss:0.1358\n",
      "Validation Loss: 0.1296\n",
      "epoch [21/100], loss:0.1290\n",
      "Validation Loss: 0.1322\n",
      "epoch [22/100], loss:0.1359\n",
      "Validation Loss: 0.1293\n",
      "epoch [23/100], loss:0.1341\n",
      "Validation Loss: 0.1281\n",
      "epoch [24/100], loss:0.1273\n",
      "Validation Loss: 0.1316\n",
      "epoch [25/100], loss:0.1372\n",
      "Validation Loss: 0.1280\n",
      "epoch [26/100], loss:0.1257\n",
      "Validation Loss: 0.1270\n",
      "epoch [27/100], loss:0.1353\n",
      "Validation Loss: 0.1273\n",
      "epoch [28/100], loss:0.1374\n",
      "Validation Loss: 0.1280\n",
      "epoch [29/100], loss:0.1332\n",
      "Validation Loss: 0.1270\n",
      "epoch [30/100], loss:0.1204\n",
      "Validation Loss: 0.1275\n",
      "epoch [31/100], loss:0.1323\n",
      "Validation Loss: 0.1285\n",
      "epoch [32/100], loss:0.1229\n",
      "Validation Loss: 0.1271\n",
      "epoch [33/100], loss:0.1452\n",
      "Validation Loss: 0.1298\n",
      "epoch [34/100], loss:0.1238\n",
      "Validation Loss: 0.1274\n",
      "epoch [35/100], loss:0.1160\n",
      "Validation Loss: 0.1287\n",
      "epoch [36/100], loss:0.1169\n",
      "Validation Loss: 0.1256\n",
      "epoch [37/100], loss:0.1270\n",
      "Validation Loss: 0.1262\n",
      "epoch [38/100], loss:0.1270\n",
      "Validation Loss: 0.1261\n",
      "epoch [39/100], loss:0.1310\n",
      "Validation Loss: 0.1255\n",
      "epoch [40/100], loss:0.1305\n",
      "Validation Loss: 0.1254\n",
      "epoch [41/100], loss:0.1293\n",
      "Validation Loss: 0.1256\n",
      "epoch [42/100], loss:0.1395\n",
      "Validation Loss: 0.1232\n",
      "epoch [43/100], loss:0.1275\n",
      "Validation Loss: 0.1270\n",
      "epoch [44/100], loss:0.1238\n",
      "Validation Loss: 0.1265\n",
      "epoch [45/100], loss:0.1226\n",
      "Validation Loss: 0.1235\n",
      "epoch [46/100], loss:0.1280\n",
      "Validation Loss: 0.1228\n",
      "epoch [47/100], loss:0.1325\n",
      "Validation Loss: 0.1268\n",
      "epoch [48/100], loss:0.1253\n",
      "Validation Loss: 0.1241\n",
      "epoch [49/100], loss:0.1250\n",
      "Validation Loss: 0.1238\n",
      "epoch [50/100], loss:0.1213\n",
      "Validation Loss: 0.1240\n",
      "epoch [51/100], loss:0.1133\n",
      "Validation Loss: 0.1247\n",
      "epoch [52/100], loss:0.1280\n",
      "Validation Loss: 0.1258\n",
      "epoch [53/100], loss:0.1203\n",
      "Validation Loss: 0.1244\n",
      "epoch [54/100], loss:0.1076\n",
      "Validation Loss: 0.1248\n",
      "epoch [55/100], loss:0.1321\n",
      "Validation Loss: 0.1240\n",
      "epoch [56/100], loss:0.1303\n",
      "Validation Loss: 0.1238\n",
      "epoch [57/100], loss:0.1379\n",
      "Validation Loss: 0.1239\n",
      "epoch [58/100], loss:0.1254\n",
      "Validation Loss: 0.1280\n",
      "epoch [59/100], loss:0.1198\n",
      "Validation Loss: 0.1292\n",
      "epoch [60/100], loss:0.1174\n",
      "Validation Loss: 0.1249\n",
      "epoch [61/100], loss:0.1391\n",
      "Validation Loss: 0.1250\n",
      "epoch [62/100], loss:0.1212\n",
      "Validation Loss: 0.1238\n",
      "epoch [63/100], loss:0.1290\n",
      "Validation Loss: 0.1263\n",
      "epoch [64/100], loss:0.1208\n",
      "Validation Loss: 0.1270\n",
      "epoch [65/100], loss:0.1224\n",
      "Validation Loss: 0.1241\n",
      "epoch [66/100], loss:0.1242\n",
      "Validation Loss: 0.1239\n",
      "epoch [67/100], loss:0.1212\n",
      "Validation Loss: 0.1239\n",
      "epoch [68/100], loss:0.1203\n",
      "Validation Loss: 0.1217\n",
      "epoch [69/100], loss:0.1299\n",
      "Validation Loss: 0.1253\n",
      "epoch [70/100], loss:0.1196\n",
      "Validation Loss: 0.1239\n",
      "epoch [71/100], loss:0.1286\n",
      "Validation Loss: 0.1210\n",
      "epoch [72/100], loss:0.1262\n",
      "Validation Loss: 0.1239\n",
      "epoch [73/100], loss:0.1271\n",
      "Validation Loss: 0.1266\n",
      "epoch [74/100], loss:0.1198\n",
      "Validation Loss: 0.1217\n",
      "epoch [75/100], loss:0.1275\n",
      "Validation Loss: 0.1234\n",
      "epoch [76/100], loss:0.1210\n",
      "Validation Loss: 0.1232\n",
      "epoch [77/100], loss:0.1153\n",
      "Validation Loss: 0.1237\n",
      "epoch [78/100], loss:0.1141\n",
      "Validation Loss: 0.1223\n",
      "epoch [79/100], loss:0.1224\n",
      "Validation Loss: 0.1250\n",
      "epoch [80/100], loss:0.1180\n",
      "Validation Loss: 0.1262\n",
      "epoch [81/100], loss:0.1204\n",
      "Validation Loss: 0.1269\n",
      "epoch [82/100], loss:0.1202\n",
      "Validation Loss: 0.1260\n",
      "epoch [83/100], loss:0.1254\n",
      "Validation Loss: 0.1219\n"
     ]
    },
    {
     "ename": "KeyboardInterrupt",
     "evalue": "",
     "output_type": "error",
     "traceback": [
      "\u001b[0;31m---------------------------------------------------------------------------\u001b[0m",
      "\u001b[0;31mKeyboardInterrupt\u001b[0m                         Traceback (most recent call last)",
      "\u001b[0;32m<ipython-input-11-35957614f5bc>\u001b[0m in \u001b[0;36m<module>\u001b[0;34m\u001b[0m\n\u001b[1;32m      2\u001b[0m \u001b[0mValidation_loss\u001b[0m \u001b[0;34m=\u001b[0m \u001b[0;34m[\u001b[0m\u001b[0;34m]\u001b[0m\u001b[0;34m\u001b[0m\u001b[0;34m\u001b[0m\u001b[0m\n\u001b[1;32m      3\u001b[0m \u001b[0;32mfor\u001b[0m \u001b[0mepoch\u001b[0m \u001b[0;32min\u001b[0m \u001b[0mrange\u001b[0m\u001b[0;34m(\u001b[0m\u001b[0mnum_epochs\u001b[0m\u001b[0;34m)\u001b[0m\u001b[0;34m:\u001b[0m\u001b[0;34m\u001b[0m\u001b[0;34m\u001b[0m\u001b[0m\n\u001b[0;32m----> 4\u001b[0;31m     \u001b[0;32mfor\u001b[0m \u001b[0mdata\u001b[0m \u001b[0;32min\u001b[0m \u001b[0mtrain_loader\u001b[0m\u001b[0;34m:\u001b[0m\u001b[0;34m\u001b[0m\u001b[0;34m\u001b[0m\u001b[0m\n\u001b[0m\u001b[1;32m      5\u001b[0m         \u001b[0mimg\u001b[0m\u001b[0;34m,\u001b[0m \u001b[0m_\u001b[0m \u001b[0;34m=\u001b[0m \u001b[0mdata\u001b[0m\u001b[0;34m\u001b[0m\u001b[0;34m\u001b[0m\u001b[0m\n\u001b[1;32m      6\u001b[0m         \u001b[0mimg\u001b[0m \u001b[0;34m=\u001b[0m \u001b[0mVariable\u001b[0m\u001b[0;34m(\u001b[0m\u001b[0mimg\u001b[0m\u001b[0;34m)\u001b[0m\u001b[0;34m.\u001b[0m\u001b[0mto\u001b[0m\u001b[0;34m(\u001b[0m\u001b[0mdevice\u001b[0m\u001b[0;34m)\u001b[0m\u001b[0;34m\u001b[0m\u001b[0;34m\u001b[0m\u001b[0m\n",
      "\u001b[0;32m~/anaconda3/lib/python3.6/site-packages/torch/utils/data/dataloader.py\u001b[0m in \u001b[0;36m__next__\u001b[0;34m(self)\u001b[0m\n\u001b[1;32m    262\u001b[0m         \u001b[0;32mif\u001b[0m \u001b[0mself\u001b[0m\u001b[0;34m.\u001b[0m\u001b[0mnum_workers\u001b[0m \u001b[0;34m==\u001b[0m \u001b[0;36m0\u001b[0m\u001b[0;34m:\u001b[0m  \u001b[0;31m# same-process loading\u001b[0m\u001b[0;34m\u001b[0m\u001b[0;34m\u001b[0m\u001b[0m\n\u001b[1;32m    263\u001b[0m             \u001b[0mindices\u001b[0m \u001b[0;34m=\u001b[0m \u001b[0mnext\u001b[0m\u001b[0;34m(\u001b[0m\u001b[0mself\u001b[0m\u001b[0;34m.\u001b[0m\u001b[0msample_iter\u001b[0m\u001b[0;34m)\u001b[0m  \u001b[0;31m# may raise StopIteration\u001b[0m\u001b[0;34m\u001b[0m\u001b[0;34m\u001b[0m\u001b[0m\n\u001b[0;32m--> 264\u001b[0;31m             \u001b[0mbatch\u001b[0m \u001b[0;34m=\u001b[0m \u001b[0mself\u001b[0m\u001b[0;34m.\u001b[0m\u001b[0mcollate_fn\u001b[0m\u001b[0;34m(\u001b[0m\u001b[0;34m[\u001b[0m\u001b[0mself\u001b[0m\u001b[0;34m.\u001b[0m\u001b[0mdataset\u001b[0m\u001b[0;34m[\u001b[0m\u001b[0mi\u001b[0m\u001b[0;34m]\u001b[0m \u001b[0;32mfor\u001b[0m \u001b[0mi\u001b[0m \u001b[0;32min\u001b[0m \u001b[0mindices\u001b[0m\u001b[0;34m]\u001b[0m\u001b[0;34m)\u001b[0m\u001b[0;34m\u001b[0m\u001b[0;34m\u001b[0m\u001b[0m\n\u001b[0m\u001b[1;32m    265\u001b[0m             \u001b[0;32mif\u001b[0m \u001b[0mself\u001b[0m\u001b[0;34m.\u001b[0m\u001b[0mpin_memory\u001b[0m\u001b[0;34m:\u001b[0m\u001b[0;34m\u001b[0m\u001b[0;34m\u001b[0m\u001b[0m\n\u001b[1;32m    266\u001b[0m                 \u001b[0mbatch\u001b[0m \u001b[0;34m=\u001b[0m \u001b[0mpin_memory_batch\u001b[0m\u001b[0;34m(\u001b[0m\u001b[0mbatch\u001b[0m\u001b[0;34m)\u001b[0m\u001b[0;34m\u001b[0m\u001b[0;34m\u001b[0m\u001b[0m\n",
      "\u001b[0;32m~/anaconda3/lib/python3.6/site-packages/torch/utils/data/dataloader.py\u001b[0m in \u001b[0;36m<listcomp>\u001b[0;34m(.0)\u001b[0m\n\u001b[1;32m    262\u001b[0m         \u001b[0;32mif\u001b[0m \u001b[0mself\u001b[0m\u001b[0;34m.\u001b[0m\u001b[0mnum_workers\u001b[0m \u001b[0;34m==\u001b[0m \u001b[0;36m0\u001b[0m\u001b[0;34m:\u001b[0m  \u001b[0;31m# same-process loading\u001b[0m\u001b[0;34m\u001b[0m\u001b[0;34m\u001b[0m\u001b[0m\n\u001b[1;32m    263\u001b[0m             \u001b[0mindices\u001b[0m \u001b[0;34m=\u001b[0m \u001b[0mnext\u001b[0m\u001b[0;34m(\u001b[0m\u001b[0mself\u001b[0m\u001b[0;34m.\u001b[0m\u001b[0msample_iter\u001b[0m\u001b[0;34m)\u001b[0m  \u001b[0;31m# may raise StopIteration\u001b[0m\u001b[0;34m\u001b[0m\u001b[0;34m\u001b[0m\u001b[0m\n\u001b[0;32m--> 264\u001b[0;31m             \u001b[0mbatch\u001b[0m \u001b[0;34m=\u001b[0m \u001b[0mself\u001b[0m\u001b[0;34m.\u001b[0m\u001b[0mcollate_fn\u001b[0m\u001b[0;34m(\u001b[0m\u001b[0;34m[\u001b[0m\u001b[0mself\u001b[0m\u001b[0;34m.\u001b[0m\u001b[0mdataset\u001b[0m\u001b[0;34m[\u001b[0m\u001b[0mi\u001b[0m\u001b[0;34m]\u001b[0m \u001b[0;32mfor\u001b[0m \u001b[0mi\u001b[0m \u001b[0;32min\u001b[0m \u001b[0mindices\u001b[0m\u001b[0;34m]\u001b[0m\u001b[0;34m)\u001b[0m\u001b[0;34m\u001b[0m\u001b[0;34m\u001b[0m\u001b[0m\n\u001b[0m\u001b[1;32m    265\u001b[0m             \u001b[0;32mif\u001b[0m \u001b[0mself\u001b[0m\u001b[0;34m.\u001b[0m\u001b[0mpin_memory\u001b[0m\u001b[0;34m:\u001b[0m\u001b[0;34m\u001b[0m\u001b[0;34m\u001b[0m\u001b[0m\n\u001b[1;32m    266\u001b[0m                 \u001b[0mbatch\u001b[0m \u001b[0;34m=\u001b[0m \u001b[0mpin_memory_batch\u001b[0m\u001b[0;34m(\u001b[0m\u001b[0mbatch\u001b[0m\u001b[0;34m)\u001b[0m\u001b[0;34m\u001b[0m\u001b[0;34m\u001b[0m\u001b[0m\n",
      "\u001b[0;32m~/anaconda3/lib/python3.6/site-packages/torchvision/datasets/mnist.py\u001b[0m in \u001b[0;36m__getitem__\u001b[0;34m(self, index)\u001b[0m\n\u001b[1;32m     75\u001b[0m \u001b[0;34m\u001b[0m\u001b[0m\n\u001b[1;32m     76\u001b[0m         \u001b[0;32mif\u001b[0m \u001b[0mself\u001b[0m\u001b[0;34m.\u001b[0m\u001b[0mtransform\u001b[0m \u001b[0;32mis\u001b[0m \u001b[0;32mnot\u001b[0m \u001b[0;32mNone\u001b[0m\u001b[0;34m:\u001b[0m\u001b[0;34m\u001b[0m\u001b[0;34m\u001b[0m\u001b[0m\n\u001b[0;32m---> 77\u001b[0;31m             \u001b[0mimg\u001b[0m \u001b[0;34m=\u001b[0m \u001b[0mself\u001b[0m\u001b[0;34m.\u001b[0m\u001b[0mtransform\u001b[0m\u001b[0;34m(\u001b[0m\u001b[0mimg\u001b[0m\u001b[0;34m)\u001b[0m\u001b[0;34m\u001b[0m\u001b[0;34m\u001b[0m\u001b[0m\n\u001b[0m\u001b[1;32m     78\u001b[0m \u001b[0;34m\u001b[0m\u001b[0m\n\u001b[1;32m     79\u001b[0m         \u001b[0;32mif\u001b[0m \u001b[0mself\u001b[0m\u001b[0;34m.\u001b[0m\u001b[0mtarget_transform\u001b[0m \u001b[0;32mis\u001b[0m \u001b[0;32mnot\u001b[0m \u001b[0;32mNone\u001b[0m\u001b[0;34m:\u001b[0m\u001b[0;34m\u001b[0m\u001b[0;34m\u001b[0m\u001b[0m\n",
      "\u001b[0;32m~/anaconda3/lib/python3.6/site-packages/torchvision/transforms/transforms.py\u001b[0m in \u001b[0;36m__call__\u001b[0;34m(self, img)\u001b[0m\n\u001b[1;32m     47\u001b[0m     \u001b[0;32mdef\u001b[0m \u001b[0m__call__\u001b[0m\u001b[0;34m(\u001b[0m\u001b[0mself\u001b[0m\u001b[0;34m,\u001b[0m \u001b[0mimg\u001b[0m\u001b[0;34m)\u001b[0m\u001b[0;34m:\u001b[0m\u001b[0;34m\u001b[0m\u001b[0;34m\u001b[0m\u001b[0m\n\u001b[1;32m     48\u001b[0m         \u001b[0;32mfor\u001b[0m \u001b[0mt\u001b[0m \u001b[0;32min\u001b[0m \u001b[0mself\u001b[0m\u001b[0;34m.\u001b[0m\u001b[0mtransforms\u001b[0m\u001b[0;34m:\u001b[0m\u001b[0;34m\u001b[0m\u001b[0;34m\u001b[0m\u001b[0m\n\u001b[0;32m---> 49\u001b[0;31m             \u001b[0mimg\u001b[0m \u001b[0;34m=\u001b[0m \u001b[0mt\u001b[0m\u001b[0;34m(\u001b[0m\u001b[0mimg\u001b[0m\u001b[0;34m)\u001b[0m\u001b[0;34m\u001b[0m\u001b[0;34m\u001b[0m\u001b[0m\n\u001b[0m\u001b[1;32m     50\u001b[0m         \u001b[0;32mreturn\u001b[0m \u001b[0mimg\u001b[0m\u001b[0;34m\u001b[0m\u001b[0;34m\u001b[0m\u001b[0m\n\u001b[1;32m     51\u001b[0m \u001b[0;34m\u001b[0m\u001b[0m\n",
      "\u001b[0;32m~/anaconda3/lib/python3.6/site-packages/torchvision/transforms/transforms.py\u001b[0m in \u001b[0;36m__call__\u001b[0;34m(self, pic)\u001b[0m\n\u001b[1;32m     74\u001b[0m             \u001b[0mTensor\u001b[0m\u001b[0;34m:\u001b[0m \u001b[0mConverted\u001b[0m \u001b[0mimage\u001b[0m\u001b[0;34m.\u001b[0m\u001b[0;34m\u001b[0m\u001b[0;34m\u001b[0m\u001b[0m\n\u001b[1;32m     75\u001b[0m         \"\"\"\n\u001b[0;32m---> 76\u001b[0;31m         \u001b[0;32mreturn\u001b[0m \u001b[0mF\u001b[0m\u001b[0;34m.\u001b[0m\u001b[0mto_tensor\u001b[0m\u001b[0;34m(\u001b[0m\u001b[0mpic\u001b[0m\u001b[0;34m)\u001b[0m\u001b[0;34m\u001b[0m\u001b[0;34m\u001b[0m\u001b[0m\n\u001b[0m\u001b[1;32m     77\u001b[0m \u001b[0;34m\u001b[0m\u001b[0m\n\u001b[1;32m     78\u001b[0m     \u001b[0;32mdef\u001b[0m \u001b[0m__repr__\u001b[0m\u001b[0;34m(\u001b[0m\u001b[0mself\u001b[0m\u001b[0;34m)\u001b[0m\u001b[0;34m:\u001b[0m\u001b[0;34m\u001b[0m\u001b[0;34m\u001b[0m\u001b[0m\n",
      "\u001b[0;32m~/anaconda3/lib/python3.6/site-packages/torchvision/transforms/functional.py\u001b[0m in \u001b[0;36mto_tensor\u001b[0;34m(pic)\u001b[0m\n\u001b[1;32m     76\u001b[0m     \u001b[0;32melse\u001b[0m\u001b[0;34m:\u001b[0m\u001b[0;34m\u001b[0m\u001b[0;34m\u001b[0m\u001b[0m\n\u001b[1;32m     77\u001b[0m         \u001b[0mnchannel\u001b[0m \u001b[0;34m=\u001b[0m \u001b[0mlen\u001b[0m\u001b[0;34m(\u001b[0m\u001b[0mpic\u001b[0m\u001b[0;34m.\u001b[0m\u001b[0mmode\u001b[0m\u001b[0;34m)\u001b[0m\u001b[0;34m\u001b[0m\u001b[0;34m\u001b[0m\u001b[0m\n\u001b[0;32m---> 78\u001b[0;31m     \u001b[0mimg\u001b[0m \u001b[0;34m=\u001b[0m \u001b[0mimg\u001b[0m\u001b[0;34m.\u001b[0m\u001b[0mview\u001b[0m\u001b[0;34m(\u001b[0m\u001b[0mpic\u001b[0m\u001b[0;34m.\u001b[0m\u001b[0msize\u001b[0m\u001b[0;34m[\u001b[0m\u001b[0;36m1\u001b[0m\u001b[0;34m]\u001b[0m\u001b[0;34m,\u001b[0m \u001b[0mpic\u001b[0m\u001b[0;34m.\u001b[0m\u001b[0msize\u001b[0m\u001b[0;34m[\u001b[0m\u001b[0;36m0\u001b[0m\u001b[0;34m]\u001b[0m\u001b[0;34m,\u001b[0m \u001b[0mnchannel\u001b[0m\u001b[0;34m)\u001b[0m\u001b[0;34m\u001b[0m\u001b[0;34m\u001b[0m\u001b[0m\n\u001b[0m\u001b[1;32m     79\u001b[0m     \u001b[0;31m# put it from HWC to CHW format\u001b[0m\u001b[0;34m\u001b[0m\u001b[0;34m\u001b[0m\u001b[0;34m\u001b[0m\u001b[0m\n\u001b[1;32m     80\u001b[0m     \u001b[0;31m# yikes, this transpose takes 80% of the loading time/CPU\u001b[0m\u001b[0;34m\u001b[0m\u001b[0;34m\u001b[0m\u001b[0;34m\u001b[0m\u001b[0m\n",
      "\u001b[0;31mKeyboardInterrupt\u001b[0m: "
     ]
    },
    {
     "data": {
      "image/png": "[encoded data removed]",
      "text/plain": [
       "<Figure size 432x288 with 1 Axes>"
      ]
     },
     "metadata": {
      "needs_background": "light"
     },
     "output_type": "display_data"
    }
   ],
   "source": [
    "Train_loss = []\n",
    "Validation_loss = []\n",
    "for epoch in range(num_epochs):\n",
    "    for data in train_loader:\n",
    "        img, _ = data\n",
    "        img = Variable(img).to(device)\n",
    "        # ===================forward=====================\n",
    "        output = model(img)\n",
    "        loss = criterion(output, img)\n",
    "        # ===================backward====================\n",
    "        optimizer.zero_grad()\n",
    "        loss.backward()\n",
    "        optimizer.step()\n",
    "    # ===================log========================\n",
    "    print('epoch [{}/{}], loss:{:.4f}'\n",
    "          .format(epoch + 1, num_epochs, loss.data.item()))\n",
    "    output_val = model(Variable(sample_batch).to(device))\n",
    "    loss_val = criterion(output_val, Variable(sample_batch).to(device))\n",
    "    print('Validation Loss: {:.4f}'.format(loss_val.data.item()))\n",
    "    # ================plotting ======================\n",
    "    Train_loss.append(loss.data.item())\n",
    "    Validation_loss.append(loss_val.data.item())\n",
    "    x = np.arange(len(Train_loss))\n",
    "    plt.plot(x,Train_loss,x,Validation_loss)\n",
    "    plt.legend(('Train Loss', 'Validation Loss'))\n",
    "    plt.xlabel('Epoch')\n",
    "    plt.ylabel('MSE')\n",
    "    plt.savefig('/home/odeguchy/Documents/Autoencoder_batch_size_128_lr=0.001/Loss.png')\n",
    "    if epoch % 10 == 0:\n",
    "        pic = to_img(output.cpu().data)\n",
    "        output_sample = model(Variable(sample_batch).to(device))\n",
    "        output_sample = to_img(output_sample.cpu()).data\n",
    "        torchvision.utils.save_image(output_sample, '/home/odeguchy/Documents/Autoencoder_batch_size_128_lr=0.001/recons/image_{}.png'.format(epoch+1))\n"
   ]
  },
  {
   "cell_type": "markdown",
   "metadata": {},
   "source": [
    "## Excercises\n",
    "1.) Convert the code to be useable on the cluster along with a log of the most important things. \n",
    "Note: In order to save the images and use matplotlib on the cluster you need to add\n",
    "\n",
    "`import matplotlib\n",
    "matplotlib.use('Agg')\n",
    "import matplotlib.pyplot as plt`\n",
    "\n",
    "before adding all of the packages.\n",
    "\n",
    "2.) Train the model for 20 epochs. Save the model and then train for another 20 epochs.\n"
   ]
  },
  {
   "cell_type": "code",
   "execution_count": null,
   "metadata": {},
   "outputs": [],
   "source": []
  }
 ],
 "metadata": {
  "kernelspec": {
   "display_name": "Python 3",
   "language": "python",
   "name": "python3"
  },
  "language_info": {
   "codemirror_mode": {
    "name": "ipython",
    "version": 3
   },
   "file_extension": ".py",
   "mimetype": "text/x-python",
   "name": "python",
   "nbconvert_exporter": "python",
   "pygments_lexer": "ipython3",
   "version": "3.6.7"
  }
 },
 "nbformat": 4,
 "nbformat_minor": 2
}

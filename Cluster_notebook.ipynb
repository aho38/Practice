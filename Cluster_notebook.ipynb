{
 "cells": [
  {
   "cell_type": "markdown",
   "metadata": {},
   "source": [
    "### Cluster Access ####\n",
    "An account can be requested through the following cite https://it.ucmerced.edu/content/merced-cluster-new-user-account. Use the request service button located in the upper right hand corner and request the account by filling out the form. \n",
    "\n",
    "Once you have been assigned a user name then you can access the cluster through the terminal (linux or mac) or through PUTTY(windows). You can download PUTTY here  https://www.putty.org/ .\n",
    "You will ssh through the cluster using the following command in the terminal:"
   ]
  },
  {
   "cell_type": "markdown",
   "metadata": {},
   "source": [
    "```ssh <username>@merced.ucmerced.edu```"
   ]
  },
  {
   "cell_type": "markdown",
   "metadata": {},
   "source": [
    "you will be prompted to enter your password"
   ]
  },
  {
   "cell_type": "markdown",
   "metadata": {},
   "source": [
    "```<username>@merced.ucmerced.edu's password:```"
   ]
  },
  {
   "cell_type": "markdown",
   "metadata": {},
   "source": [
    "The first time logging in it is possible that it will ask you to accept certain security measures. Follow the prompt and you should arrive at the following screen with the following prompt"
   ]
  },
  {
   "cell_type": "markdown",
   "metadata": {},
   "source": [
    "```\n",
    "Last login: Wed Aug 22 11:04:55 2018 from 10.33.15.194\n",
    "--------------------------------------------------------------------------------\n",
    "\n",
    "                      __  _____________  ________________ \n",
    "                     /  |/  / ____/ __ \\/ ____/ ____/ __ \\\n",
    "                    / /|_/ / __/ / /_/ / /   / __/ / / / /\n",
    "                   / /  / / /___/ _, _/ /___/ /___/ /_/ / \n",
    "                  /_/  /_/_____/_/ |_|\\____/_____/_____/  \n",
    "\n",
    "================================================================================\n",
    "\n",
    "Welome to MERCED, the Multi-Environment Research Computer for Exploration and\n",
    "Discovery!\n",
    "\n",
    "Please acknowledge time on MERCED in all papers and other forms of\n",
    "dissemination, with note of the funding NSF proposal number.\n",
    "\n",
    "MERCED is supported by the National Science Foundation (Grant No. ACI-1429783).\n",
    "\n",
    "================================================================================\n",
    "LIMITS:\n",
    "================================================================================\n",
    "\n",
    "        20-Core Nodes\t24-Core Nodes\t  Wall Clock\t Max Cores Per User \n",
    "std.q     30\t              38\t    24 hours\t        800\n",
    "fast.q    36\t              40\t     4 hours\t        200           \n",
    "long.q\t  28\t              18\t    14 days\t            200           \n",
    " gpu.q\t  4\t                  0\t        14 days\t          Unlimited       \n",
    "===============================================================================\n",
    "\n",
    "****************************************************************************************************************************************************\n",
    "ATTENTION: WE HAVE MIGRATED FROM SUN GRID ENGINE SCHEDULER (SGE) TO SLURM SCHEDULER ON MERCED CLUSTER ON 14TH JULY, 2018.\n",
    "COMMANDS ASSOCIATED WITH SGE (e.g. qsub) WILL NO LONGER WORK. YOU MUST USE SLURM SUBMISSION COMMANDS AND SLURM-STYLE BATCH JOBS IN ORDER TO TASK THE CLUSTER\n",
    "FOR INFORMATION ON HOW TO RUN YOUR JOBS ON SLURM SCHEDULER, PLEASE SEE:\n",
    "http://hpcwiki.ucmerced.edu/knowledgebase/sge-to-slurm-conversion/ AND\n",
    "http://hpcwiki.ucmerced.edu/knowledgebase/slurm-basic-commands-and-examples/\n",
    "IF YOU NEED ASSISTANCE RUNNING YOUR JOBS WITH SLURM, PLEASE PLAN TO ATTEND HPC WALK-IN SESSIONS: EVERY FRIDAY 10:30 am - 12 noon @ COB-1 322 (WILLOW ROOM)\n",
    "For any questions/concerns with Slurm scheduler, please email:schadalapaka@ucmerced.edu\n",
    "****************************************************************************************************************************************************\n",
    "ATTENTION: WE WILL BE DOING A MAINTENANCE ON SLURM DATABASE DAEMON ON AUG 22,2018 AND AUG 23,2018. ALTHOUGH WE EXPECT THE MAINTENANCE TO BE PRETTY SEEMLESS,\n",
    "WE HIGHLY RECOMMEND USERS TO CHECK-POINT THEIR CODE TO RETRIEVE THEIR WORK IN THE VERY UNLIKELY CASE THEIR JOBS GET CANCELLED.\n",
    "For any questions/concerns, please email:schadalapaka@ucmerced.edu  \n",
    "***************************************************************************************************************************************************** \n",
    "[<username>@merced ~]```\n"
   ]
  },
  {
   "cell_type": "markdown",
   "metadata": {},
   "source": [
    "This is your home folder on the head node and most terminal/unix commands work here. The following link is a unix cheat sheet: http://cheatsheetworld.com/programming/unix-linux-cheat-sheet/. There are many resources available on the internet. Among the most important commands are ls , cd, cp and mkdir. These are commands that will let you navigate and perform operations on files. "
   ]
  },
  {
   "cell_type": "markdown",
   "metadata": {},
   "source": [
    "### Installing Anaconda ###\n",
    "We will use PyTorch for our machine learning applications. In order to install this package we will first install the anaconda package manager in our local directory. Download the Anaconda 5.2 For Linux Installer from https://www.anaconda.com/download/#linux. We will be using the python 3.6 version. The file should be titled ``Anaconda3-5.2.0-Linux-x86_64.sh`` . Use filezilla (https://filezilla-project.org/) to transfer the downloaded file from your local machine to your home directory on the cluster. Once in your local directory execute the command\n",
    "``bash Anaconda3-5.2.0-Linux-x86_64.sh``\n",
    "\n",
    "Accept the licensing terms and accept the location where it will be installed \n",
    "\n",
    "```\n",
    "Anaconda3 will now be installed into this location:\n",
    "/home/<username>/anaconda3\n",
    "  - Press ENTER to confirm the location\n",
    "  - Press CTRL-C to abort the installation\n",
    "  - Or specify a different location below\n",
    "```  \n",
    "You will be asked if you wish to install Visual Studio Code. This is not necessary and so you should not install it."
   ]
  },
  {
   "cell_type": "markdown",
   "metadata": {},
   "source": [
    "### Installing Pytorch ###\n",
    "Once Anaconda is installed in your home directory we will install the cuda toolkit in order to install pytorch. This is done using the Anaconda installer conda with the following prompt\n",
    "\n",
    "                [username@merced ~]$ conda install -c anaconda cudatoolkit\n",
    "                \n",
    "Solving the environment may take some time but accept the changes and CUDA 9.0 should be installed in the anaconda package.\n",
    "\n",
    "Next install pytorch and torchvision using \n",
    "\n",
    "                [username@merced ~]$ conda install pytorch torchvision -c pytorch\n",
    "\n",
    "follow the prompts and you will have installed Pytorch 0.4.1"
   ]
  },
  {
   "cell_type": "markdown",
   "metadata": {},
   "source": [
    "### Submitting a GPU test job ###\n",
    "In this section we will be submitting a job on slurm (the cluster job manager) to determine that our Pytorch installation works. \n",
    "#### Pytorch test script ####\n",
    "Pytorch is implemented in python and so we will need to write a test script in python. We create the python file in your home directory by using the touch unix command \n",
    "\n",
    "                [username@merced ~]$ touch GPU_test.py\n",
    "                \n",
    "You can then open the python script using vim \n",
    "                \n",
    "                [username@merced ~]$ vim GPU_test.py\n",
    "                \n",
    "After pressing the letter I and seeing --INSERT-- at the bottom of the terminal edit the document with the following commands\n",
    "\n",
    "```\n",
    "import torch\n",
    "import torch.nn as nn\n",
    "print(torch.version.cuda)\n",
    "DEVICE = torch.cuda.current_device()\n",
    "print(torch.cuda.get_device_name(DEVICE))\n",
    "\n",
    "cuda = True if torch.cuda.is_available() else False\n",
    "print(cuda)\n",
    "```\n",
    "\n",
    "To save in vim you need to press the esc key then the colon key and type wq then enter. \n",
    "The import command loads pytorch and its neural network toolbox. The commands retrieve the version of cuda being used and tells you if a GPU is present and what kind it is. We will submit this code to the cluster using a slurm job script.\n",
    "\n",
    "### Slurm\n",
    "Slurm is an open source job scheduling system for Linux clusters.\n",
    "\n",
    "#### Commands\n",
    "\n",
    "`sinfo`reports the state of partitions and nodes managed by Slurm. It also tells you with nodes are available and where they are located.\n",
    "\n",
    "`squeue` reports the state of jobs. By default, it reports the running jobs in priority order and then the pending jobs in priority order. \n",
    "\n",
    "You can use this to look up particular nodes or particular users using the following flags\n",
    "\n",
    "`[odeguchy@merced ~]$ squeue -p gpu.q\n",
    "             JOBID PARTITION     NAME     USER ST       TIME  NODES NODELIST(REASON)\n",
    "            171680     gpu.q     bash arangana  R 4-12:41:42      1 mrcdg03\n",
    "            172899     gpu.q     bash arangana  R 1-02:41:27      1 mrcdg02\n",
    "`\n",
    "or\n",
    "\n",
    "`\n",
    "[odeguchy@mrcdg01 ~]$ squeue -u odeguchy\n",
    "             JOBID PARTITION     NAME     USER ST       TIME  NODES NODELIST(REASON)\n",
    "            173249     gpu.q     bash odeguchy  R       0:06      1 mrcdg01\n",
    "`\n",
    "\n",
    "`sbatch` is used to submit a job script for execution\n",
    "\n",
    "Let us create another file using `touch test_job.sh` and then open the file using `vim test_job.sh`. Fill the file with the following \n",
    "\n",
    "```\n",
    "#!/bin/bash\n",
    "#\n",
    "#\n",
    "#SBATCH --job-name=GPU_test_applied\n",
    "#SBATCH --output /home/username/%j.%N.out\n",
    "#SBATCH -p gpu.q\n",
    "#SBATCH --time=00:10:00\n",
    "\n",
    "python GPU_test.py\n",
    "```\n",
    "The script starts out as all bash scripts. Slurm uses the SBATCH command. The job name can be changed and the location of the output can also be changed. We will usually be using one of two partitions in the cluster either `-p gpu.q` or `-p appliedmath.q` and the total time should be adjusted, both queues can run jobs for up to 14 days. After the slurm SBATCH declarations we call on the actual process we want completed in this case we run the python script GPU_test.py.\n",
    "\n",
    "The job is submitted using the command\n",
    "```\n",
    "sbatch test_job.sh\n",
    "```\n",
    "You can check on the status of your job using the command `squeue -u <username>`. Your job will either be in the queue or running. Once the job is done it will no longer appear in the queue and you should see an output file in your home directory. The file will be named in the following manner jobnumber.nodeused.out. After running the test_job open the output file using `cat jobnumber.nodeused.out` and you should see the following\n",
    "```\n",
    "9.0.176\n",
    "Tesla K20m\n",
    "True\n",
    "```\n",
    " The name of the GPU may changed depending on the partition used. "
   ]
  },
  {
   "cell_type": "markdown",
   "metadata": {
    "collapsed": true
   },
   "source": [
    "### Running an interactive session using Slurm ###\n",
    "You can also run what is known as an interactive session on slurm. Instead of submitting a job, slurm will find resources for you to run directly on the terminal line. There are a few things to be wary of when running an interactive session.\n",
    "\n",
    "1. Your job is only alive while your current terminal connection is alive.\n",
    "2. output to the terminal is not saved.\n",
    "\n",
    "In any case **Make sure you save all necessary output**\n",
    "\n",
    "The interactive session can be run using the srun command\n",
    "\n",
    "`srun -p <partition_name> --nodelist = <node> --pty bash`\n",
    "\n",
    "be aware that time is another option and if not added to your script you will get the default. \n",
    "\n",
    "Some examples\n",
    "\n",
    "```\n",
    "srun -p gpu.q --pty bash\n",
    "```\n",
    "or \n",
    "\n",
    "```\n",
    "srun -p appliedmath.q --pty bash\n",
    "```\n",
    "\n",
    "`scancel` is used to cancel any pending or running job\n",
    "`scancel <job-id>`"
   ]
  },
  {
   "cell_type": "markdown",
   "metadata": {},
   "source": [
    "### Configure ssh key generator for logging in ###\n",
    "On your local machine\n",
    "Type `cd` and hit enter. Then `cd .ssh`. Use `ls` to see the files in the directory. If there is no config file then use `vim config` to create one and enter the following.\n",
    "```\n",
    "host merced\n",
    "  hostname merced.ucmerced.edu\n",
    "  user <username>\n",
    "```\n",
    "You can now connect to the cluster using the command\n",
    "```\n",
    "ssh merced\n",
    "```"
   ]
  },
  {
   "cell_type": "markdown",
   "metadata": {
    "collapsed": true
   },
   "source": [
    "#### Generating your public key\n",
    "Generating a public key keeps you from having to enter your password to access the cluster. First you need to generate a key on your local computer by typing\n",
    "\n",
    "`ssh-keygen`\n",
    "\n",
    "`Generating public/private rsa key pair.\n",
    "Enter file in which to save the key (/home/odeguchy/.ssh/id_rsa):` \n"
   ]
  },
  {
   "cell_type": "markdown",
   "metadata": {},
   "source": [
    "You should typically accept the default folder. The private key will be called `id_rsa` and the associated public key will be called `id_rsa.pub`\n",
    "\n",
    "I also generally do not enter a passphrase\n",
    "\n",
    "`Enter passphrase (empty for no passphrase): \n",
    "Enter same passphrase again: `\n",
    "\n",
    "The output should look like the following\n",
    "\n",
    "`Your identification has been saved in /home/username/.ssh/id_rsa.\n",
    "Your public key has been saved in /home/username/.ssh/id_rsa.pub.\n",
    "The key fingerprint is:\n",
    "a9:49:2e:2a:5e:33:3e:a9:de:4e:77:11:58:b6:90:26 username@remote_host\n",
    "The key's randomart image is:\n",
    "+--[ RSA 2048]----+\n",
    "|     ..o         |\n",
    "|   E o= .        |\n",
    "|    o. o         |\n",
    "|        ..       |\n",
    "|      ..S        |\n",
    "|     o o.        |\n",
    "|   =o.+.         |\n",
    "|. =++..          |\n",
    "|o=++.            |\n",
    "+-----------------+`\n"
   ]
  },
  {
   "cell_type": "markdown",
   "metadata": {},
   "source": [
    "Now you need to copy the public key to the existing server you want access to. \n",
    "\n",
    "In order display the content of your id_rsa.pub\n",
    "`cat ~/.ssh/id_rsa.pub`\n",
    "\n",
    "you should see something like this\n",
    "\n",
    "`ssh-rsa AAAAB3NzaC1yc2EAAAADAQABAAACAQCqql6MzstZYh1TmWWv11q5O3pISj2ZFl9HgH1JLknLLx44+tXfJ7mIrKNxOOwxIxvcBF8PXSYvobFYEZjGIVCEAjrUzLiIxbyCoxVyle7Q+bqgZ8SeeM8wzytsY+dVGcBxF6N4JS+zVk5eMcV385gG3Y6ON3EG112n6d+SMXY0OEBIcO6x+PnUSGHrSgpBgX7Ks1r7xqFa7heJLLt2wWwkARptX7udSq05paBhcpB0pHtA1Rfz3K2B+ZVIpSDfki9UVKzT8JUmwW6NNzSgxUfQHGwnW7kj4jp4AT0VZk3ADw497M2G/12N0PPB5CnhHf7ovgy6nL1ikrygTKRFmNZISvAcywB9GVqNAVE+ZHDSCuURNsAInVzgYo9xgJDW8wUw2o8U77+xiFxgI5QSZX3Iq7YLMgeksaO4rBJEa54k8m5wEiEE1nUhLuJ0X/vh2xPff6SQ1BL/zkOhvJCACK6Vb15mDOeCSq54Cr7kvS46itMosi/uS66+PujOO+xt/2FWYepz6ZlN70bRly57Q06J+ZJoc9FfBCbCyYH7U/ASsmY095ywPsBo1XQ9PqhnN1/YOorJ068foQDNVpm146mUpILVxmq41Cj55YKHEazXGsdBIbXWhcrRf4G2fJLRcGUr9q8/lERo9oxRm5JFX6TCmj6kmiFqv+Ow9gI0x8GvaQ== demo@test`\n",
    "\n",
    "Then access your remote host(cluster in another terminal window). Once you have access make sure the `~/.ssh` directory is already created. \n",
    "\n",
    "The following command will create the directory if necessary, or do nothing if it already exists:\n",
    "\n",
    "`mkdir -p ~/.ssh`\n",
    "\n",
    "Now we want to create or modify the authorized_keys file within this directory. You can add contents of your `id_rsa.pub` file to the end of the `authorized_keys` file, creating it if necessary, use the code: \n",
    "\n",
    "`echo <public_key_string> >> ~/.ssh/authorized_keys`\n",
    "\n",
    "In the above command, substiture the `<public_key_string>` with the output from the `cat ~/.ssh/id_rsa.pub` command. It should start with `ssh-rsa AAAA...`"
   ]
  },
  {
   "cell_type": "markdown",
   "metadata": {},
   "source": [
    "Once this works along with your config file then you can ssh by using the command\n",
    "`ssh <host nickname>`"
   ]
  },
  {
   "cell_type": "code",
   "execution_count": null,
   "metadata": {},
   "outputs": [],
   "source": []
  }
 ],
 "metadata": {
  "kernelspec": {
   "display_name": "Python 3",
   "language": "python",
   "name": "python3"
  },
  "language_info": {
   "codemirror_mode": {
    "name": "ipython",
    "version": 3
   },
   "file_extension": ".py",
   "mimetype": "text/x-python",
   "name": "python",
   "nbconvert_exporter": "python",
   "pygments_lexer": "ipython3",
   "version": "3.6.7"
  }
 },
 "nbformat": 4,
 "nbformat_minor": 2
}
